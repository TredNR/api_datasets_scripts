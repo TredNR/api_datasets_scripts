{
 "cells": [
  {
   "cell_type": "code",
   "execution_count": 11,
   "metadata": {},
   "outputs": [],
   "source": [
    "import pandas as pd\n",
    "import json\n",
    "import csv"
   ]
  },
  {
   "cell_type": "code",
   "execution_count": 12,
   "metadata": {},
   "outputs": [
    {
     "name": "stderr",
     "output_type": "stream",
     "text": [
      "c:\\users\\tred1\\appdata\\local\\programs\\python\\python38-32\\lib\\site-packages\\IPython\\core\\interactiveshell.py:3145: DtypeWarning: Columns (2,3,5,7,8,9) have mixed types.Specify dtype option on import or set low_memory=False.\n",
      "  has_raised = await self.run_ast_nodes(code_ast.body, cell_name,\n"
     ]
    }
   ],
   "source": [
    "confirmed = pd.read_csv('time_series_covid19_confirmed_global_narrow.csv.CSV')\n",
    "deaths = pd.read_csv('time_series_covid19_deaths_global_narrow.csv.CSV')\n",
    "recovered = pd.read_csv('time_series_covid19_recovered_global_narrow.csv.CSV')\n",
    "pd.set_option('display.max_rows', 500)\n",
    "pd.set_option('display.max_columns', 500)\n",
    "pd.set_option('display.width', 1000)"
   ]
  },
  {
   "cell_type": "code",
   "execution_count": 16,
   "metadata": {},
   "outputs": [
    {
     "data": {
      "text/html": [
       "<div>\n",
       "<style scoped>\n",
       "    .dataframe tbody tr th:only-of-type {\n",
       "        vertical-align: middle;\n",
       "    }\n",
       "\n",
       "    .dataframe tbody tr th {\n",
       "        vertical-align: top;\n",
       "    }\n",
       "\n",
       "    .dataframe thead th {\n",
       "        text-align: right;\n",
       "    }\n",
       "</style>\n",
       "<table border=\"1\" class=\"dataframe\">\n",
       "  <thead>\n",
       "    <tr style=\"text-align: right;\">\n",
       "      <th></th>\n",
       "      <th>Province/State</th>\n",
       "      <th>Country/Region</th>\n",
       "      <th>Lat</th>\n",
       "      <th>Long</th>\n",
       "      <th>Date</th>\n",
       "      <th>Value</th>\n",
       "      <th>ISO 3166-1 Alpha 3-Codes</th>\n",
       "      <th>Region Code</th>\n",
       "      <th>Sub-region Code</th>\n",
       "      <th>Intermediate Region Code</th>\n",
       "    </tr>\n",
       "  </thead>\n",
       "  <tbody>\n",
       "    <tr>\n",
       "      <th>64471</th>\n",
       "      <td>NaN</td>\n",
       "      <td>Russia</td>\n",
       "      <td>61.52401</td>\n",
       "      <td>105.318756</td>\n",
       "      <td>2020-11-23</td>\n",
       "      <td>2096749</td>\n",
       "      <td>RUS</td>\n",
       "      <td>150</td>\n",
       "      <td>151</td>\n",
       "      <td>NaN</td>\n",
       "    </tr>\n",
       "    <tr>\n",
       "      <th>64472</th>\n",
       "      <td>NaN</td>\n",
       "      <td>Russia</td>\n",
       "      <td>61.52401</td>\n",
       "      <td>105.318756</td>\n",
       "      <td>2020-11-22</td>\n",
       "      <td>2071858</td>\n",
       "      <td>RUS</td>\n",
       "      <td>150</td>\n",
       "      <td>151</td>\n",
       "      <td>NaN</td>\n",
       "    </tr>\n",
       "    <tr>\n",
       "      <th>64473</th>\n",
       "      <td>NaN</td>\n",
       "      <td>Russia</td>\n",
       "      <td>61.52401</td>\n",
       "      <td>105.318756</td>\n",
       "      <td>2020-11-21</td>\n",
       "      <td>2047563</td>\n",
       "      <td>RUS</td>\n",
       "      <td>150</td>\n",
       "      <td>151</td>\n",
       "      <td>NaN</td>\n",
       "    </tr>\n",
       "    <tr>\n",
       "      <th>64474</th>\n",
       "      <td>NaN</td>\n",
       "      <td>Russia</td>\n",
       "      <td>61.52401</td>\n",
       "      <td>105.318756</td>\n",
       "      <td>2020-11-20</td>\n",
       "      <td>2023025</td>\n",
       "      <td>RUS</td>\n",
       "      <td>150</td>\n",
       "      <td>151</td>\n",
       "      <td>NaN</td>\n",
       "    </tr>\n",
       "    <tr>\n",
       "      <th>64475</th>\n",
       "      <td>NaN</td>\n",
       "      <td>Russia</td>\n",
       "      <td>61.52401</td>\n",
       "      <td>105.318756</td>\n",
       "      <td>2020-11-19</td>\n",
       "      <td>1998966</td>\n",
       "      <td>RUS</td>\n",
       "      <td>150</td>\n",
       "      <td>151</td>\n",
       "      <td>NaN</td>\n",
       "    </tr>\n",
       "  </tbody>\n",
       "</table>\n",
       "</div>"
      ],
      "text/plain": [
       "      Province/State Country/Region       Lat        Long        Date    Value ISO 3166-1 Alpha 3-Codes Region Code Sub-region Code Intermediate Region Code\n",
       "64471            NaN         Russia  61.52401  105.318756  2020-11-23  2096749                      RUS         150             151                      NaN\n",
       "64472            NaN         Russia  61.52401  105.318756  2020-11-22  2071858                      RUS         150             151                      NaN\n",
       "64473            NaN         Russia  61.52401  105.318756  2020-11-21  2047563                      RUS         150             151                      NaN\n",
       "64474            NaN         Russia  61.52401  105.318756  2020-11-20  2023025                      RUS         150             151                      NaN\n",
       "64475            NaN         Russia  61.52401  105.318756  2020-11-19  1998966                      RUS         150             151                      NaN"
      ]
     },
     "execution_count": 16,
     "metadata": {},
     "output_type": "execute_result"
    }
   ],
   "source": [
    "russia = confirmed[confirmed['Country/Region']=='Russia']\n",
    "russia[:5]"
   ]
  },
  {
   "cell_type": "code",
   "execution_count": 24,
   "metadata": {},
   "outputs": [],
   "source": [
    "col_dict_confirmed = {'date':'Date',  'country':'Country/Region', 'province/state':'Province/State', 'region_code':'ISO 3166-1 Alpha 3-Codes', 'confirmed':'Value', 'lat':'Lat', 'long':'Long', 'sub-region_code':'Sub-region Code', 'intermediate_region_code':'Intermediate Region Code'}\n",
    "\n",
    "with open('confirmed_global_narrow_columns.json', 'w') as sf:\n",
    "    json.dump(col_dict_confirmed, sf)"
   ]
  },
  {
   "cell_type": "code",
   "execution_count": 10,
   "metadata": {},
   "outputs": [
    {
     "data": {
      "text/html": [
       "<div>\n",
       "<style scoped>\n",
       "    .dataframe tbody tr th:only-of-type {\n",
       "        vertical-align: middle;\n",
       "    }\n",
       "\n",
       "    .dataframe tbody tr th {\n",
       "        vertical-align: top;\n",
       "    }\n",
       "\n",
       "    .dataframe thead th {\n",
       "        text-align: right;\n",
       "    }\n",
       "</style>\n",
       "<table border=\"1\" class=\"dataframe\">\n",
       "  <thead>\n",
       "    <tr style=\"text-align: right;\">\n",
       "      <th></th>\n",
       "      <th>Province/State</th>\n",
       "      <th>Country/Region</th>\n",
       "      <th>Lat</th>\n",
       "      <th>Long</th>\n",
       "      <th>Date</th>\n",
       "      <th>Value</th>\n",
       "      <th>ISO 3166-1 Alpha 3-Codes</th>\n",
       "      <th>Region Code</th>\n",
       "      <th>Sub-region Code</th>\n",
       "      <th>Intermediate Region Code</th>\n",
       "    </tr>\n",
       "  </thead>\n",
       "  <tbody>\n",
       "    <tr>\n",
       "      <th>0</th>\n",
       "      <td>#adm1+name</td>\n",
       "      <td>#country+name</td>\n",
       "      <td>#geo+lat</td>\n",
       "      <td>#geo+lon</td>\n",
       "      <td>#date</td>\n",
       "      <td>#affected+infected+value+num</td>\n",
       "      <td>#country+code</td>\n",
       "      <td>#region+main+code</td>\n",
       "      <td>#region+sub+code</td>\n",
       "      <td>#region+intermediate+code</td>\n",
       "    </tr>\n",
       "    <tr>\n",
       "      <th>1</th>\n",
       "      <td>NaN</td>\n",
       "      <td>Afghanistan</td>\n",
       "      <td>33.93911</td>\n",
       "      <td>67.709953</td>\n",
       "      <td>2020-11-23</td>\n",
       "      <td>1695</td>\n",
       "      <td>AFG</td>\n",
       "      <td>142</td>\n",
       "      <td>34</td>\n",
       "      <td>NaN</td>\n",
       "    </tr>\n",
       "  </tbody>\n",
       "</table>\n",
       "</div>"
      ],
      "text/plain": [
       "  Province/State Country/Region       Lat       Long        Date                         Value ISO 3166-1 Alpha 3-Codes        Region Code   Sub-region Code   Intermediate Region Code\n",
       "0     #adm1+name  #country+name  #geo+lat   #geo+lon       #date  #affected+infected+value+num            #country+code  #region+main+code  #region+sub+code  #region+intermediate+code\n",
       "1            NaN    Afghanistan  33.93911  67.709953  2020-11-23                          1695                      AFG                142                34                        NaN"
      ]
     },
     "execution_count": 10,
     "metadata": {},
     "output_type": "execute_result"
    }
   ],
   "source": [
    "deaths[:2]"
   ]
  },
  {
   "cell_type": "code",
   "execution_count": 25,
   "metadata": {},
   "outputs": [],
   "source": [
    "col_dict_deaths = {'date':'Date',  'country':'Country/Region', 'province/state':'Province/State', 'region_code':'ISO 3166-1 Alpha 3-Codes', 'deaths':'Value', 'lat':'Lat', 'long':'Long', 'sub-region_code':'Sub-region Code', 'intermediate_region_code':'Intermediate Region Code'}\n",
    "\n",
    "with open('deaths_global_narrow_columns.json', 'w') as sf:\n",
    "    json.dump(col_dict_deaths, sf)"
   ]
  },
  {
   "cell_type": "code",
   "execution_count": 11,
   "metadata": {},
   "outputs": [
    {
     "data": {
      "text/html": [
       "<div>\n",
       "<style scoped>\n",
       "    .dataframe tbody tr th:only-of-type {\n",
       "        vertical-align: middle;\n",
       "    }\n",
       "\n",
       "    .dataframe tbody tr th {\n",
       "        vertical-align: top;\n",
       "    }\n",
       "\n",
       "    .dataframe thead th {\n",
       "        text-align: right;\n",
       "    }\n",
       "</style>\n",
       "<table border=\"1\" class=\"dataframe\">\n",
       "  <thead>\n",
       "    <tr style=\"text-align: right;\">\n",
       "      <th></th>\n",
       "      <th>Province/State</th>\n",
       "      <th>Country/Region</th>\n",
       "      <th>Lat</th>\n",
       "      <th>Long</th>\n",
       "      <th>Date</th>\n",
       "      <th>Value</th>\n",
       "      <th>ISO 3166-1 Alpha 3-Codes</th>\n",
       "      <th>Region Code</th>\n",
       "      <th>Sub-region Code</th>\n",
       "      <th>Intermediate Region Code</th>\n",
       "    </tr>\n",
       "  </thead>\n",
       "  <tbody>\n",
       "    <tr>\n",
       "      <th>0</th>\n",
       "      <td>#adm1+name</td>\n",
       "      <td>#country+name</td>\n",
       "      <td>#geo+lat</td>\n",
       "      <td>#geo+lon</td>\n",
       "      <td>#date</td>\n",
       "      <td>#affected+infected+value+num</td>\n",
       "      <td>#country+code</td>\n",
       "      <td>#region+main+code</td>\n",
       "      <td>#region+sub+code</td>\n",
       "      <td>#region+intermediate+code</td>\n",
       "    </tr>\n",
       "    <tr>\n",
       "      <th>1</th>\n",
       "      <td>NaN</td>\n",
       "      <td>Afghanistan</td>\n",
       "      <td>33.93911</td>\n",
       "      <td>67.709953</td>\n",
       "      <td>2020-11-23</td>\n",
       "      <td>35976</td>\n",
       "      <td>AFG</td>\n",
       "      <td>142</td>\n",
       "      <td>34</td>\n",
       "      <td>NaN</td>\n",
       "    </tr>\n",
       "  </tbody>\n",
       "</table>\n",
       "</div>"
      ],
      "text/plain": [
       "  Province/State Country/Region       Lat       Long        Date                         Value ISO 3166-1 Alpha 3-Codes        Region Code   Sub-region Code   Intermediate Region Code\n",
       "0     #adm1+name  #country+name  #geo+lat   #geo+lon       #date  #affected+infected+value+num            #country+code  #region+main+code  #region+sub+code  #region+intermediate+code\n",
       "1            NaN    Afghanistan  33.93911  67.709953  2020-11-23                         35976                      AFG                142                34                        NaN"
      ]
     },
     "execution_count": 11,
     "metadata": {},
     "output_type": "execute_result"
    }
   ],
   "source": [
    "recovered[:2]"
   ]
  },
  {
   "cell_type": "code",
   "execution_count": 26,
   "metadata": {},
   "outputs": [],
   "source": [
    "col_dict_recovered = {'date':'Date',  'country':'Country/Region', 'province/state':'Province/State', 'region_code':'ISO 3166-1 Alpha 3-Codes', 'recovered':'Value', 'lat':'Lat', 'long':'Long', \n",
    "                      'sub-region_code':'Sub-region Code', 'intermediate_region_code':'Intermediate Region Code'}\n",
    "\n",
    "with open('recovered_global_narrow_columns.json', 'w') as sf:\n",
    "    json.dump(col_dict_recovered, sf)"
   ]
  },
  {
   "cell_type": "code",
   "execution_count": null,
   "metadata": {},
   "outputs": [],
   "source": []
  }
 ],
 "metadata": {
  "kernelspec": {
   "display_name": "Python 3",
   "language": "python",
   "name": "python3"
  },
  "language_info": {
   "codemirror_mode": {
    "name": "ipython",
    "version": 3
   },
   "file_extension": ".py",
   "mimetype": "text/x-python",
   "name": "python",
   "nbconvert_exporter": "python",
   "pygments_lexer": "ipython3",
   "version": "3.8.5"
  }
 },
 "nbformat": 4,
 "nbformat_minor": 4
}
